{
  "nbformat": 4,
  "nbformat_minor": 0,
  "metadata": {
    "colab": {
      "name": "hmm.ipynb",
      "provenance": [],
      "toc_visible": true,
      "authorship_tag": "ABX9TyMR1gGe9jveDcuHWCUBYsqM",
      "include_colab_link": true
    },
    "kernelspec": {
      "name": "python3",
      "display_name": "Python 3"
    },
    "language_info": {
      "name": "python"
    }
  },
  "cells": [
    {
      "cell_type": "markdown",
      "metadata": {
        "id": "view-in-github",
        "colab_type": "text"
      },
      "source": [
        "<a href=\"https://colab.research.google.com/github/lizezhonglaile/colabTest/blob/main/hmm.ipynb\" target=\"_parent\"><img src=\"https://colab.research.google.com/assets/colab-badge.svg\" alt=\"Open In Colab\"/></a>"
      ]
    },
    {
      "cell_type": "code",
      "source": [
        "!pip install hmmlearn"
      ],
      "metadata": {
        "colab": {
          "base_uri": "https://localhost:8080/"
        },
        "id": "WZt-7zpXO16e",
        "outputId": "8e49f21a-bf3b-4e34-a2a4-750c38ceba7c"
      },
      "execution_count": null,
      "outputs": [
        {
          "output_type": "stream",
          "name": "stdout",
          "text": [
            "Looking in indexes: https://pypi.org/simple, https://us-python.pkg.dev/colab-wheels/public/simple/\n",
            "Requirement already satisfied: hmmlearn in /usr/local/lib/python3.7/dist-packages (0.2.7)\n",
            "Requirement already satisfied: numpy>=1.10 in /usr/local/lib/python3.7/dist-packages (from hmmlearn) (1.21.6)\n",
            "Requirement already satisfied: scikit-learn>=0.16 in /usr/local/lib/python3.7/dist-packages (from hmmlearn) (1.0.2)\n",
            "Requirement already satisfied: scipy>=0.19 in /usr/local/lib/python3.7/dist-packages (from hmmlearn) (1.4.1)\n",
            "Requirement already satisfied: threadpoolctl>=2.0.0 in /usr/local/lib/python3.7/dist-packages (from scikit-learn>=0.16->hmmlearn) (3.1.0)\n",
            "Requirement already satisfied: joblib>=0.11 in /usr/local/lib/python3.7/dist-packages (from scikit-learn>=0.16->hmmlearn) (1.1.0)\n"
          ]
        }
      ]
    },
    {
      "cell_type": "code",
      "execution_count": 13,
      "metadata": {
        "colab": {
          "base_uri": "https://localhost:8080/"
        },
        "id": "LPn_F5V_Cie-",
        "outputId": "36de45cd-88cc-443e-beec-e3e2051fcac9"
      },
      "outputs": [
        {
          "output_type": "stream",
          "name": "stdout",
          "text": [
            "[0.5 0.3 0.2]\n",
            "[[0.7 0.2 0.1]\n",
            " [0.3 0.5 0.2]\n",
            " [0.3 0.4 0.3]]\n",
            "[[0.3 0.4 0.3]\n",
            " [0.3 0.2 0.5]\n",
            " [0.8 0.1 0.1]]\n",
            "-4.311426522157715\n",
            "[0 0 0 0]\n"
          ]
        }
      ],
      "source": [
        "\n",
        "import numpy as np\n",
        "from hmmlearn import hmm\n",
        " \n",
        "states = ['晴', '阴','雨']\n",
        "n_states = len(states)\n",
        " \n",
        "observations = ['读书', '打球','访友','读书']\n",
        "n_observations = len(observations)\n",
        " \n",
        "start_probability = np.array([0.5, 0.3, 0.2])\n",
        " \n",
        "transition_probability = np.array([\n",
        "  [0.7, 0.2, 0.1],\n",
        "  [0.3, 0.5, 0.2],\n",
        "  [0.3, 0.4, 0.3]\n",
        "])\n",
        " \n",
        "emission_probability = np.array([\n",
        "  [0.3, 0.4, 0.3],\n",
        "  [0.3, 0.2, 0.5],\n",
        "  [0.8, 0.1, 0.1]\n",
        "])\n",
        " \n",
        "model = hmm.MultinomialHMM(n_components=n_states)\n",
        "model.startprob_=start_probability\n",
        "model.transmat_=transition_probability\n",
        "model.emissionprob_=emission_probability\n",
        "print(model.startprob_)\n",
        "print(model.transmat_)\n",
        "print(model.emissionprob_)\n",
        "observe_chain=np.array([0,1,2,0]).reshape(-1,1)\n",
        "print(model.score(observe_chain))\n",
        "print(model.predict(observe_chain))"
      ]
    },
    {
      "cell_type": "code",
      "source": [
        "print(\"test\")"
      ],
      "metadata": {
        "colab": {
          "base_uri": "https://localhost:8080/"
        },
        "id": "ndYGQ7k1EMRb",
        "outputId": "f1a01157-94c1-4f11-b036-4a5b8e068c36"
      },
      "execution_count": null,
      "outputs": [
        {
          "output_type": "stream",
          "name": "stdout",
          "text": [
            "test\n"
          ]
        }
      ]
    },
    {
      "cell_type": "markdown",
      "source": [
        "# 新段落"
      ],
      "metadata": {
        "id": "wWfYsfe5Hpfr"
      }
    },
    {
      "cell_type": "code",
      "source": [
        "# f = open(\"out.txt\", \"w\")\n",
        "# f.write(\"asdfasdf\")\n",
        "# f.close()\n",
        "# !pwd\n",
        "\n",
        "from google.colab import drive\n",
        "drive.mount('/content/drive')\n",
        "!pwd\n",
        "!cp /content/out.txt ./drive/MyDrive/"
      ],
      "metadata": {
        "id": "9EMa5zIDDB8b",
        "colab": {
          "base_uri": "https://localhost:8080/"
        },
        "outputId": "1a76a527-cf2c-451b-98f5-d96b9fd150b7"
      },
      "execution_count": 9,
      "outputs": [
        {
          "output_type": "stream",
          "name": "stdout",
          "text": [
            "Mounted at /content/drive\n",
            "/content\n"
          ]
        }
      ]
    },
    {
      "cell_type": "code",
      "source": [
        "!cp /content/out.txt ./drive/MyDrive/\n",
        "!ls -l ./drive/MyDrive/*"
      ],
      "metadata": {
        "colab": {
          "base_uri": "https://localhost:8080/"
        },
        "id": "UEdrZMnxTOYz",
        "outputId": "95dac4ca-7ea8-4b99-bbd7-5b6df0b112f4"
      },
      "execution_count": 12,
      "outputs": [
        {
          "output_type": "stream",
          "name": "stdout",
          "text": [
            "-rw------- 1 root root    8 Jun  7 08:51 ./drive/MyDrive/out.txt\n",
            "\n",
            "./drive/MyDrive/colab:\n",
            "total 4\n",
            "drwx------ 2 root root 4096 Jun  7 07:23 awesome_chinese\n"
          ]
        }
      ]
    }
  ]
}